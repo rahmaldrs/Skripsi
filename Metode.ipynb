{
 "cells": [
  {
   "cell_type": "code",
   "execution_count": 26,
   "metadata": {},
   "outputs": [],
   "source": [
    "import pandas as pd\n",
    "import numpy as np\n",
    "import nltk \n",
    "from collections import Counter\n",
    "from nltk.tokenize import word_tokenize\n",
    "import seaborn as sns\n",
    "from nltk.tokenize import word_tokenize\n",
    "import matplotlib.pyplot as plt\n",
    "%matplotlib inline\n",
    "from wordcloud import wordcloud\n"
   ]
  },
  {
   "cell_type": "code",
   "execution_count": 39,
   "metadata": {},
   "outputs": [
    {
     "data": {
      "text/html": [
       "<div>\n",
       "<style scoped>\n",
       "    .dataframe tbody tr th:only-of-type {\n",
       "        vertical-align: middle;\n",
       "    }\n",
       "\n",
       "    .dataframe tbody tr th {\n",
       "        vertical-align: top;\n",
       "    }\n",
       "\n",
       "    .dataframe thead th {\n",
       "        text-align: right;\n",
       "    }\n",
       "</style>\n",
       "<table border=\"1\" class=\"dataframe\">\n",
       "  <thead>\n",
       "    <tr style=\"text-align: right;\">\n",
       "      <th></th>\n",
       "      <th>Unnamed: 0</th>\n",
       "      <th>ID</th>\n",
       "      <th>label</th>\n",
       "      <th>tanggal</th>\n",
       "      <th>judul</th>\n",
       "      <th>narasi</th>\n",
       "      <th>nama file gambar</th>\n",
       "      <th>databersih</th>\n",
       "    </tr>\n",
       "  </thead>\n",
       "  <tbody>\n",
       "    <tr>\n",
       "      <td>4137</td>\n",
       "      <td>4137</td>\n",
       "      <td>95132.0</td>\n",
       "      <td>1</td>\n",
       "      <td>24/08/2018</td>\n",
       "      <td>Ustaz Di Cianjur Dipersekusi dan Dibacok</td>\n",
       "      <td>Kalian terlalu sibuk posting tentang Pilpres, ...</td>\n",
       "      <td>95132.jpg</td>\n",
       "      <td>sibuk posting pilpres sibuk posting  2019  pre...</td>\n",
       "    </tr>\n",
       "    <tr>\n",
       "      <td>4138</td>\n",
       "      <td>4138</td>\n",
       "      <td>840603.0</td>\n",
       "      <td>1</td>\n",
       "      <td>24/08/2018</td>\n",
       "      <td>Website Surveyfadlizon.com Milik Waketum Gerindra</td>\n",
       "      <td>Kalau ada surveyfadlizon.com itu bukan punya ...</td>\n",
       "      <td>840603.jpg</td>\n",
       "      <td>surveyfadlizon com pusat hoax nasional wakil k...</td>\n",
       "    </tr>\n",
       "    <tr>\n",
       "      <td>4139</td>\n",
       "      <td>4139</td>\n",
       "      <td>316308.0</td>\n",
       "      <td>0</td>\n",
       "      <td>24/08/2018</td>\n",
       "      <td>: BBKSDA Jatim Mengklarifikasi Bahwa Wisata Al...</td>\n",
       "      <td>Menyusul beredarnya surat edaran rencana penut...</td>\n",
       "      <td>316308.jpg</td>\n",
       "      <td>susul edar surat edar rencana tutup kawah ijen...</td>\n",
       "    </tr>\n",
       "    <tr>\n",
       "      <td>4140</td>\n",
       "      <td>4140</td>\n",
       "      <td>365467.0</td>\n",
       "      <td>0</td>\n",
       "      <td>24/08/2018</td>\n",
       "      <td>DIRUMORKAN PUNYA ATURAN BARU PEMBATASAN WAKTU ...</td>\n",
       "      <td>Kepala Humas BPJS Kesehatan, M. Iqbal Anas Ma...</td>\n",
       "      <td>365467.jpg</td>\n",
       "      <td>kepala humas bpjs sehat iqbal anas maruf uji l...</td>\n",
       "    </tr>\n",
       "    <tr>\n",
       "      <td>4141</td>\n",
       "      <td>4141</td>\n",
       "      <td>332690.0</td>\n",
       "      <td>1</td>\n",
       "      <td>24/08/2018</td>\n",
       "      <td>DAFTAR NAMA HONORER YANG LOLOS SELEKSI CPNS 2018</td>\n",
       "      <td>Akhirnya pak bu",
       " inilah yang kita tunggu sekia...</td>\n",
       "      <td>332690.jpg</td>\n",
       "      <td>sekian</td>\n",
       "    </tr>\n",
       "    <tr>\n",
       "      <td>4142</td>\n",
       "      <td>4142</td>\n",
       "      <td>496530.0</td>\n",
       "      <td>1</td>\n",
       "      <td>24/08/2018</td>\n",
       "      <td>Akun Twitter @LawanPolitikJKW adalah Milik Fer...</td>\n",
       "      <td>Beberapa hari terakhir ini telah beredar luas ...</td>\n",
       "      <td>496530.jpg</td>\n",
       "      <td>edar luas capture buah twitter foto nama sah u...</td>\n",
       "    </tr>\n",
       "    <tr>\n",
       "      <td>4143</td>\n",
       "      <td>4143</td>\n",
       "      <td>832401.0</td>\n",
       "      <td>0</td>\n",
       "      <td>24/08/2018</td>\n",
       "      <td>Pollycarpus Bantah Jadi Kader Partai Berkarya</td>\n",
       "      <td>Setelah lama dikabarkan telah menjadi kader Pa...</td>\n",
       "      <td>832401.jpg</td>\n",
       "      <td>kabar kader partai karya pollycarpus budihari ...</td>\n",
       "    </tr>\n",
       "    <tr>\n",
       "      <td>4144</td>\n",
       "      <td>4144</td>\n",
       "      <td>160657.0</td>\n",
       "      <td>1</td>\n",
       "      <td>24/08/2018</td>\n",
       "      <td>Omongan Bin Masak Ngak DIperhatikan</td>\n",
       "      <td>Omongan Bin Masak Ngak DIperhatikan.. Ngeri N...</td>\n",
       "      <td>160657.jpg</td>\n",
       "      <td>omong bin masak ngak perhati ngeri ngeri sedap...</td>\n",
       "    </tr>\n",
       "    <tr>\n",
       "      <td>4145</td>\n",
       "      <td>4145</td>\n",
       "      <td>504715.0</td>\n",
       "      <td>1</td>\n",
       "      <td>24/08/2018</td>\n",
       "      <td>Beginilah Caranya China Menghancurkan Dunia</td>\n",
       "      <td>Disinformasi yang pernah beberapa kali diedark...</td>\n",
       "      <td>504715.jpg</td>\n",
       "      <td>disinformasi edar pil china turki</td>\n",
       "    </tr>\n",
       "    <tr>\n",
       "      <td>4146</td>\n",
       "      <td>4146</td>\n",
       "      <td>480136.0</td>\n",
       "      <td>0</td>\n",
       "      <td>24/08/2018</td>\n",
       "      <td>Bappenas Bantah Tudingan Sandiaga Uno yang Seb...</td>\n",
       "      <td>Itu sama sekali tidak benar, mereka (BPS) pun...</td>\n",
       "      <td>480136.jpg</td>\n",
       "      <td>bps undang independensi menteri rencana bangun...</td>\n",
       "    </tr>\n",
       "    <tr>\n",
       "      <td>4147</td>\n",
       "      <td>4147</td>\n",
       "      <td>693138.0</td>\n",
       "      <td>0</td>\n",
       "      <td>24/08/2018</td>\n",
       "      <td>diteriakkan nama Prabowo</td>\n",
       "      <td>Kok yang diteriakkan nama Prabowo??!!!</td>\n",
       "      <td>693138.jpg</td>\n",
       "      <td>teriak nama prabowo</td>\n",
       "    </tr>\n",
       "    <tr>\n",
       "      <td>4148</td>\n",
       "      <td>4148</td>\n",
       "      <td>979851.0</td>\n",
       "      <td>0</td>\n",
       "      <td>24/08/2018</td>\n",
       "      <td>Ketua INASGOC Bantah Indonesia Bermain Curang ...</td>\n",
       "      <td>Atas tudingan bahwa Indonesia bermain curang p...</td>\n",
       "      <td>979851.jpg</td>\n",
       "      <td>tuding indonesia main curang cabang pencak sil...</td>\n",
       "    </tr>\n",
       "  </tbody>\n",
       "</table>\n",
       "</div>"
      ],
      "text/plain": [
       "      Unnamed: 0        ID  label     tanggal  \\\n",
       "4137        4137   95132.0      1  24/08/2018   \n",
       "4138        4138  840603.0      1  24/08/2018   \n",
       "4139        4139  316308.0      0  24/08/2018   \n",
       "4140        4140  365467.0      0  24/08/2018   \n",
       "4141        4141  332690.0      1  24/08/2018   \n",
       "4142        4142  496530.0      1  24/08/2018   \n",
       "4143        4143  832401.0      0  24/08/2018   \n",
       "4144        4144  160657.0      1  24/08/2018   \n",
       "4145        4145  504715.0      1  24/08/2018   \n",
       "4146        4146  480136.0      0  24/08/2018   \n",
       "4147        4147  693138.0      0  24/08/2018   \n",
       "4148        4148  979851.0      0  24/08/2018   \n",
       "\n",
       "                                                  judul  \\\n",
       "4137           Ustaz Di Cianjur Dipersekusi dan Dibacok   \n",
       "4138  Website Surveyfadlizon.com Milik Waketum Gerindra   \n",
       "4139  : BBKSDA Jatim Mengklarifikasi Bahwa Wisata Al...   \n",
       "4140  DIRUMORKAN PUNYA ATURAN BARU PEMBATASAN WAKTU ...   \n",
       "4141   DAFTAR NAMA HONORER YANG LOLOS SELEKSI CPNS 2018   \n",
       "4142  Akun Twitter @LawanPolitikJKW adalah Milik Fer...   \n",
       "4143      Pollycarpus Bantah Jadi Kader Partai Berkarya   \n",
       "4144                Omongan Bin Masak Ngak DIperhatikan   \n",
       "4145        Beginilah Caranya China Menghancurkan Dunia   \n",
       "4146  Bappenas Bantah Tudingan Sandiaga Uno yang Seb...   \n",
       "4147                           diteriakkan nama Prabowo   \n",
       "4148  Ketua INASGOC Bantah Indonesia Bermain Curang ...   \n",
       "\n",
       "                                                 narasi nama file gambar  \\\n",
       "4137  Kalian terlalu sibuk posting tentang Pilpres, ...        95132.jpg   \n",
       "4138  Kalau ada surveyfadlizon.com itu bukan punya ...       840603.jpg   \n",
       "4139  Menyusul beredarnya surat edaran rencana penut...       316308.jpg   \n",
       "4140  Kepala Humas BPJS Kesehatan, M. Iqbal Anas Ma...       365467.jpg   \n",
       "4141  Akhirnya pak bu\n",
       " inilah yang kita tunggu sekia...       332690.jpg   \n",
       "4142  Beberapa hari terakhir ini telah beredar luas ...       496530.jpg   \n",
       "4143  Setelah lama dikabarkan telah menjadi kader Pa...       832401.jpg   \n",
       "4144  Omongan Bin Masak Ngak DIperhatikan.. Ngeri N...       160657.jpg   \n",
       "4145  Disinformasi yang pernah beberapa kali diedark...       504715.jpg   \n",
       "4146  Itu sama sekali tidak benar, mereka (BPS) pun...       480136.jpg   \n",
       "4147             Kok yang diteriakkan nama Prabowo??!!!       693138.jpg   \n",
       "4148  Atas tudingan bahwa Indonesia bermain curang p...       979851.jpg   \n",
       "\n",
       "                                             databersih  \n",
       "4137  sibuk posting pilpres sibuk posting  2019  pre...  \n",
       "4138  surveyfadlizon com pusat hoax nasional wakil k...  \n",
       "4139  susul edar surat edar rencana tutup kawah ijen...  \n",
       "4140  kepala humas bpjs sehat iqbal anas maruf uji l...  \n",
       "4141                                             sekian  \n",
       "4142  edar luas capture buah twitter foto nama sah u...  \n",
       "4143  kabar kader partai karya pollycarpus budihari ...  \n",
       "4144  omong bin masak ngak perhati ngeri ngeri sedap...  \n",
       "4145                  disinformasi edar pil china turki  \n",
       "4146  bps undang independensi menteri rencana bangun...  \n",
       "4147                                teriak nama prabowo  \n",
       "4148  tuding indonesia main curang cabang pencak sil...  "
      ]
     },
     "execution_count": 39,
     "metadata": {},
     "output_type": "execute_result"
    }
   ],
   "source": [
    "df=pd.read_csv ('dataset.csv')\n",
    "df.tail(12)"
   ]
  },
  {
   "cell_type": "code",
   "execution_count": 40,
   "metadata": {},
   "outputs": [
    {
     "data": {
      "text/plain": [
       "Unnamed: 0            int64\n",
       "ID                  float64\n",
       "label                 int64\n",
       "tanggal              object\n",
       "judul                object\n",
       "narasi               object\n",
       "nama file gambar     object\n",
       "databersih           object\n",
       "dtype: object"
      ]
     },
     "execution_count": 40,
     "metadata": {},
     "output_type": "execute_result"
    }
   ],
   "source": [
    "df.dtypes"
   ]
  },
  {
   "cell_type": "code",
   "execution_count": 24,
   "metadata": {},
   "outputs": [
    {
     "name": "stderr",
     "output_type": "stream",
     "text": [
      "C:\\Users\\tamu\\Anaconda3\\lib\\site-packages\\ipykernel_launcher.py:2: FutureWarning: The signature of `Series.to_csv` was aligned to that of `DataFrame.to_csv`, and argument 'header' will change its default value from False to True: please pass an explicit value to suppress this warning.\n",
      "  \n",
      "C:\\Users\\tamu\\Anaconda3\\lib\\site-packages\\ipykernel_launcher.py:4: FutureWarning: The signature of `Series.to_csv` was aligned to that of `DataFrame.to_csv`, and argument 'header' will change its default value from False to True: please pass an explicit value to suppress this warning.\n",
      "  after removing the cwd from sys.path.\n"
     ]
    }
   ],
   "source": [
    "df_pos = df[df['label']==0]['databersih']\n",
    "df_pos.to_csv('nonhoax.csv', encoding='utf8', index = False)\n",
    "df_neg = df[df['label']==1]['databersih']\n",
    "df_neg.to_csv('hoax.csv', encoding='utf8', index = False)"
   ]
  },
  {
   "cell_type": "code",
   "execution_count": 41,
   "metadata": {},
   "outputs": [
    {
     "name": "stdout",
     "output_type": "stream",
     "text": [
      "Proporsi label\n"
     ]
    },
    {
     "data": {
      "image/png": "[encoded data removed]",
      "text/plain": [
       "<Figure size 432x288 with 1 Axes>"
      ]
     },
     "metadata": {
      "needs_background": "light"
     },
     "output_type": "display_data"
    }
   ],
   "source": [
    "print(\"Proporsi label\")\n",
    "ax = sns.countplot(df['label'])"
   ]
  },
  {
   "cell_type": "code",
   "execution_count": 42,
   "metadata": {},
   "outputs": [
    {
     "data": {
      "text/plain": [
       "1    3380\n",
       "0     769\n",
       "Name: label, dtype: int64"
      ]
     },
     "execution_count": 42,
     "metadata": {},
     "output_type": "execute_result"
    }
   ],
   "source": [
    "df['label'].value_counts()"
   ]
  },
  {
   "cell_type": "code",
   "execution_count": 44,
   "metadata": {},
   "outputs": [
    {
     "ename": "AttributeError",
     "evalue": "Can only use .dt accessor with datetimelike values",
     "output_type": "error",
     "traceback": [
      "\u001b[1;31m---------------------------------------------------------------------------\u001b[0m",
      "\u001b[1;31mAttributeError\u001b[0m                            Traceback (most recent call last)",
      "\u001b[1;32m<ipython-input-44-55c91f441a5f>\u001b[0m in \u001b[0;36m<module>\u001b[1;34m\u001b[0m\n\u001b[0;32m      1\u001b[0m \u001b[0mdf\u001b[0m\u001b[1;33m[\u001b[0m\u001b[1;34m'Tahun'\u001b[0m\u001b[1;33m]\u001b[0m \u001b[1;33m=\u001b[0m \u001b[0mpd\u001b[0m\u001b[1;33m.\u001b[0m\u001b[0mto_datetime\u001b[0m\u001b[1;33m(\u001b[0m\u001b[0mdf\u001b[0m\u001b[1;33m[\u001b[0m\u001b[1;34m'tanggal'\u001b[0m\u001b[1;33m]\u001b[0m\u001b[1;33m)\u001b[0m\u001b[1;33m\u001b[0m\u001b[1;33m\u001b[0m\u001b[0m\n\u001b[0;32m      2\u001b[0m \u001b[1;33m\u001b[0m\u001b[0m\n\u001b[1;32m----> 3\u001b[1;33m datesen_counts = (df.groupby(df['tanggal'].dt.year)['label']\n\u001b[0m\u001b[0;32m      4\u001b[0m                 \u001b[1;33m.\u001b[0m\u001b[0mvalue_counts\u001b[0m\u001b[1;33m(\u001b[0m\u001b[1;33m)\u001b[0m\u001b[1;33m\u001b[0m\u001b[1;33m\u001b[0m\u001b[0m\n\u001b[0;32m      5\u001b[0m                 \u001b[1;33m.\u001b[0m\u001b[0mrename\u001b[0m\u001b[1;33m(\u001b[0m\u001b[1;34m'Df'\u001b[0m\u001b[1;33m)\u001b[0m\u001b[1;33m\u001b[0m\u001b[1;33m\u001b[0m\u001b[0m\n",
      "\u001b[1;32m~\\Anaconda3\\lib\\site-packages\\pandas\\core\\generic.py\u001b[0m in \u001b[0;36m__getattr__\u001b[1;34m(self, name)\u001b[0m\n\u001b[0;32m   5173\u001b[0m             \u001b[1;32mor\u001b[0m \u001b[0mname\u001b[0m \u001b[1;32min\u001b[0m \u001b[0mself\u001b[0m\u001b[1;33m.\u001b[0m\u001b[0m_accessors\u001b[0m\u001b[1;33m\u001b[0m\u001b[1;33m\u001b[0m\u001b[0m\n\u001b[0;32m   5174\u001b[0m         ):\n\u001b[1;32m-> 5175\u001b[1;33m             \u001b[1;32mreturn\u001b[0m \u001b[0mobject\u001b[0m\u001b[1;33m.\u001b[0m\u001b[0m__getattribute__\u001b[0m\u001b[1;33m(\u001b[0m\u001b[0mself\u001b[0m\u001b[1;33m,\u001b[0m \u001b[0mname\u001b[0m\u001b[1;33m)\u001b[0m\u001b[1;33m\u001b[0m\u001b[1;33m\u001b[0m\u001b[0m\n\u001b[0m\u001b[0;32m   5176\u001b[0m         \u001b[1;32melse\u001b[0m\u001b[1;33m:\u001b[0m\u001b[1;33m\u001b[0m\u001b[1;33m\u001b[0m\u001b[0m\n\u001b[0;32m   5177\u001b[0m             \u001b[1;32mif\u001b[0m \u001b[0mself\u001b[0m\u001b[1;33m.\u001b[0m\u001b[0m_info_axis\u001b[0m\u001b[1;33m.\u001b[0m\u001b[0m_can_hold_identifiers_and_holds_name\u001b[0m\u001b[1;33m(\u001b[0m\u001b[0mname\u001b[0m\u001b[1;33m)\u001b[0m\u001b[1;33m:\u001b[0m\u001b[1;33m\u001b[0m\u001b[1;33m\u001b[0m\u001b[0m\n",
      "\u001b[1;32m~\\Anaconda3\\lib\\site-packages\\pandas\\core\\accessor.py\u001b[0m in \u001b[0;36m__get__\u001b[1;34m(self, obj, cls)\u001b[0m\n\u001b[0;32m    173\u001b[0m             \u001b[1;31m# we're accessing the attribute of the class, i.e., Dataset.geo\u001b[0m\u001b[1;33m\u001b[0m\u001b[1;33m\u001b[0m\u001b[1;33m\u001b[0m\u001b[0m\n\u001b[0;32m    174\u001b[0m             \u001b[1;32mreturn\u001b[0m \u001b[0mself\u001b[0m\u001b[1;33m.\u001b[0m\u001b[0m_accessor\u001b[0m\u001b[1;33m\u001b[0m\u001b[1;33m\u001b[0m\u001b[0m\n\u001b[1;32m--> 175\u001b[1;33m         \u001b[0maccessor_obj\u001b[0m \u001b[1;33m=\u001b[0m \u001b[0mself\u001b[0m\u001b[1;33m.\u001b[0m\u001b[0m_accessor\u001b[0m\u001b[1;33m(\u001b[0m\u001b[0mobj\u001b[0m\u001b[1;33m)\u001b[0m\u001b[1;33m\u001b[0m\u001b[1;33m\u001b[0m\u001b[0m\n\u001b[0m\u001b[0;32m    176\u001b[0m         \u001b[1;31m# Replace the property with the accessor object. Inspired by:\u001b[0m\u001b[1;33m\u001b[0m\u001b[1;33m\u001b[0m\u001b[1;33m\u001b[0m\u001b[0m\n\u001b[0;32m    177\u001b[0m         \u001b[1;31m# http://www.pydanny.com/cached-property.html\u001b[0m\u001b[1;33m\u001b[0m\u001b[1;33m\u001b[0m\u001b[1;33m\u001b[0m\u001b[0m\n",
      "\u001b[1;32m~\\Anaconda3\\lib\\site-packages\\pandas\\core\\indexes\\accessors.py\u001b[0m in \u001b[0;36m__new__\u001b[1;34m(cls, data)\u001b[0m\n\u001b[0;32m    341\u001b[0m             \u001b[1;32mpass\u001b[0m  \u001b[1;31m# we raise an attribute error anyway\u001b[0m\u001b[1;33m\u001b[0m\u001b[1;33m\u001b[0m\u001b[0m\n\u001b[0;32m    342\u001b[0m \u001b[1;33m\u001b[0m\u001b[0m\n\u001b[1;32m--> 343\u001b[1;33m         \u001b[1;32mraise\u001b[0m \u001b[0mAttributeError\u001b[0m\u001b[1;33m(\u001b[0m\u001b[1;34m\"Can only use .dt accessor with datetimelike \"\u001b[0m \u001b[1;34m\"values\"\u001b[0m\u001b[1;33m)\u001b[0m\u001b[1;33m\u001b[0m\u001b[1;33m\u001b[0m\u001b[0m\n\u001b[0m",
      "\u001b[1;31mAttributeError\u001b[0m: Can only use .dt accessor with datetimelike values"
     ]
    }
   ],
   "source": [
    "df['Tahun'] = pd.to_datetime(df['tanggal'])\n",
    "\n",
    "datesen_counts = (df.groupby(df['tanggal'].dt.year)['label']\n",
    "                .value_counts()\n",
    "                .rename('Df')\n",
    "                .reset_index()\n",
    "                .sort_values('tanggal'))\n",
    "print(datesen_counts)"
   ]
  },
  {
   "cell_type": "code",
   "execution_count": null,
   "metadata": {},
   "outputs": [],
   "source": []
  }
 ],
 "metadata": {
  "kernelspec": {
   "display_name": "Python 3",
   "language": "python",
   "name": "python3"
  },
  "language_info": {
   "codemirror_mode": {
    "name": "ipython",
    "version": 3
   },
   "file_extension": ".py",
   "mimetype": "text/x-python",
   "name": "python",
   "nbconvert_exporter": "python",
   "pygments_lexer": "ipython3",
   "version": "3.7.4"
  }
 },
 "nbformat": 4,
 "nbformat_minor": 2
}
