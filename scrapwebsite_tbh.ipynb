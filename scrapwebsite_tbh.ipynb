{
 "cells": [
  {
   "cell_type": "code",
   "execution_count": 1,
   "metadata": {},
   "outputs": [],
   "source": [
    "import pandas as pd\n",
    "from urllib.request import urlopen\n",
    "from bs4 import BeautifulSoup"
   ]
  },
  {
   "cell_type": "code",
   "execution_count": 2,
   "metadata": {},
   "outputs": [],
   "source": [
    "# fungsi scrap website\n",
    "def scrap_web(url):\n",
    "    web = BeautifulSoup(urlopen(url), 'lxml')\n",
    "    array_h3 = web.find_all('h3')\n",
    "    array_h3 = [str(x) for x in array_h3]\n",
    "    array_h3 = [BeautifulSoup(x, \"lxml\").get_text() for x in array_h3]\n",
    "    array_h3 = [x.replace('\\t','') for x in array_h3]\n",
    "    array_h3 = [x.replace('\\n','') for x in array_h3]\n",
    "    splitted = []\n",
    "    for h3 in array_h3:\n",
    "        label = h3.split(']',1)[0]\n",
    "        judul = h3.replace(label+\"] \",'')\n",
    "        label = label.replace('[','')\n",
    "        label = label.replace(']','')\n",
    "        label = label.lower()\n",
    "        splitted+=[[judul,label]]\n",
    "    return splitted"
   ]
  },
  {
   "cell_type": "code",
   "execution_count": 3,
   "metadata": {},
   "outputs": [],
   "source": [
    "res = []\n",
    "base_url = \"https://turnbackhoax.id\"\n",
    "first_page = 1\n",
    "last_page = 10\n",
    "# 1 page berisi 20 berita\n",
    "for i in range(first_page,last_page+1):\n",
    "    scrap = scrap_web(base_url+\"/page/\"+str(i))\n",
    "    res+=scrap"
   ]
  },
  {
   "cell_type": "code",
   "execution_count": 4,
   "metadata": {},
   "outputs": [
    {
     "data": {
      "text/html": [
       "<div>\n",
       "<style scoped>\n",
       "    .dataframe tbody tr th:only-of-type {\n",
       "        vertical-align: middle;\n",
       "    }\n",
       "\n",
       "    .dataframe tbody tr th {\n",
       "        vertical-align: top;\n",
       "    }\n",
       "\n",
       "    .dataframe thead th {\n",
       "        text-align: right;\n",
       "    }\n",
       "</style>\n",
       "<table border=\"1\" class=\"dataframe\">\n",
       "  <thead>\n",
       "    <tr style=\"text-align: right;\">\n",
       "      <th></th>\n",
       "      <th>judul</th>\n",
       "      <th>label</th>\n",
       "    </tr>\n",
       "  </thead>\n",
       "  <tbody>\n",
       "    <tr>\n",
       "      <td>0</td>\n",
       "      <td>“Corona is a hoax”</td>\n",
       "      <td>false</td>\n",
       "    </tr>\n",
       "    <tr>\n",
       "      <td>1</td>\n",
       "      <td>“Corona adalah hoaks”</td>\n",
       "      <td>salah</td>\n",
       "    </tr>\n",
       "    <tr>\n",
       "      <td>2</td>\n",
       "      <td>Surat Edaran Penolakan Rapid Test Majelis Ulam...</td>\n",
       "      <td>salah</td>\n",
       "    </tr>\n",
       "    <tr>\n",
       "      <td>3</td>\n",
       "      <td>Video “BERITA PALING POPULER HARI INI NADIEM M...</td>\n",
       "      <td>salah</td>\n",
       "    </tr>\n",
       "    <tr>\n",
       "      <td>4</td>\n",
       "      <td>Akun Facebook PALSU Gubernur Jatim “Khofifah I...</td>\n",
       "      <td>salah</td>\n",
       "    </tr>\n",
       "  </tbody>\n",
       "</table>\n",
       "</div>"
      ],
      "text/plain": [
       "                                               judul  label\n",
       "0                                 “Corona is a hoax”  false\n",
       "1                              “Corona adalah hoaks”  salah\n",
       "2  Surat Edaran Penolakan Rapid Test Majelis Ulam...  salah\n",
       "3  Video “BERITA PALING POPULER HARI INI NADIEM M...  salah\n",
       "4  Akun Facebook PALSU Gubernur Jatim “Khofifah I...  salah"
      ]
     },
     "execution_count": 4,
     "metadata": {},
     "output_type": "execute_result"
    }
   ],
   "source": [
    "df = pd.DataFrame(res,columns=['judul','label'])\n",
    "df.head()"
   ]
  },
  {
   "cell_type": "code",
   "execution_count": 5,
   "metadata": {},
   "outputs": [],
   "source": [
    "# output dataframe to csv file\n",
    "df.to_csv('dataset-turnbackhoax.csv',index=False)"
   ]
  },
  {
   "cell_type": "code",
   "execution_count": null,
   "metadata": {},
   "outputs": [],
   "source": []
  }
 ],
 "metadata": {
  "kernelspec": {
   "display_name": "Python 3",
   "language": "python",
   "name": "python3"
  },
  "language_info": {
   "codemirror_mode": {
    "name": "ipython",
    "version": 3
   },
   "file_extension": ".py",
   "mimetype": "text/x-python",
   "name": "python",
   "nbconvert_exporter": "python",
   "pygments_lexer": "ipython3",
   "version": "3.7.4"
  }
 },
 "nbformat": 4,
 "nbformat_minor": 4
}
